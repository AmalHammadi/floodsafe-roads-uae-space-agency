{
  "cells": [
    {
      "cell_type": "markdown",
      "metadata": {
        "id": "9F-isGNdfnl-"
      },
      "source": [
        "# Satellite Image Processing\n"
      ]
    },
    {
      "cell_type": "markdown",
      "metadata": {
        "id": "CUPRvM6rfnmC"
      },
      "source": [
        "GDAL\n",
        "- GDAL stands for Geospatial Data Abstraction Library.\n",
        "- It's an open-source library for reading and writing raster and vector geospatial data formats.\n",
        "- Developed by Frank Warmerdam and maintained by OSGeo.\n",
        "- Provides APIs for accessing various GIS data formats.\n",
        "- Offers command-line utilities for efficient geospatial data processing tasks.\n",
        "- Capabilities include format conversion, projection transformation, data manipulation, georeferencing, and more.\n"
      ]
    },
    {
      "cell_type": "code",
      "source": [
        "QWA"
      ],
      "metadata": {
        "id": "8c8OCGzWjL6s",
        "outputId": "4f26de3f-bb44-4945-8de0-b71f345d6ffe",
        "colab": {
          "base_uri": "https://localhost:8080/"
        }
      },
      "execution_count": null,
      "outputs": [
        {
          "output_type": "stream",
          "name": "stdout",
          "text": [
            "Reading package lists... Done\n",
            "Building dependency tree... Done\n",
            "Reading state information... Done\n",
            "The following additional packages will be installed:\n",
            "  python3-gdal python3-numpy\n",
            "Suggested packages:\n",
            "  libgdal-grass python-numpy-doc python3-pytest\n",
            "The following NEW packages will be installed:\n",
            "  gdal-bin python3-gdal python3-numpy\n",
            "0 upgraded, 3 newly installed, 0 to remove and 49 not upgraded.\n",
            "Need to get 5,055 kB of archives.\n",
            "After this operation, 25.1 MB of additional disk space will be used.\n",
            "Get:1 http://archive.ubuntu.com/ubuntu jammy-updates/main amd64 python3-numpy amd64 1:1.21.5-1ubuntu22.04.1 [3,467 kB]\n",
            "Get:2 https://ppa.launchpadcontent.net/ubuntugis/ppa/ubuntu jammy/main amd64 python3-gdal amd64 3.6.4+dfsg-1~jammy0 [1,027 kB]\n",
            "Get:3 https://ppa.launchpadcontent.net/ubuntugis/ppa/ubuntu jammy/main amd64 gdal-bin amd64 3.6.4+dfsg-1~jammy0 [561 kB]\n",
            "Fetched 5,055 kB in 2s (3,170 kB/s)\n",
            "Selecting previously unselected package python3-numpy.\n",
            "(Reading database ... 123597 files and directories currently installed.)\n",
            "Preparing to unpack .../python3-numpy_1%3a1.21.5-1ubuntu22.04.1_amd64.deb ...\n",
            "Unpacking python3-numpy (1:1.21.5-1ubuntu22.04.1) ...\n",
            "Selecting previously unselected package python3-gdal.\n",
            "Preparing to unpack .../python3-gdal_3.6.4+dfsg-1~jammy0_amd64.deb ...\n",
            "Unpacking python3-gdal (3.6.4+dfsg-1~jammy0) ...\n",
            "Selecting previously unselected package gdal-bin.\n",
            "Preparing to unpack .../gdal-bin_3.6.4+dfsg-1~jammy0_amd64.deb ...\n",
            "Unpacking gdal-bin (3.6.4+dfsg-1~jammy0) ...\n",
            "Setting up python3-numpy (1:1.21.5-1ubuntu22.04.1) ...\n",
            "Setting up python3-gdal (3.6.4+dfsg-1~jammy0) ...\n",
            "Setting up gdal-bin (3.6.4+dfsg-1~jammy0) ...\n",
            "Processing triggers for man-db (2.10.2-1) ...\n"
          ]
        }
      ]
    },
    {
      "cell_type": "code",
      "source": [
        "!gdalinfo --version"
      ],
      "metadata": {
        "id": "O4VAg_bZjmjh",
        "outputId": "be1ce7f6-0448-42de-bcf0-177850cd509b",
        "colab": {
          "base_uri": "https://localhost:8080/"
        }
      },
      "execution_count": null,
      "outputs": [
        {
          "output_type": "stream",
          "name": "stdout",
          "text": [
            "GDAL 3.6.4, released 2023/04/17\n"
          ]
        }
      ]
    },
    {
      "cell_type": "code",
      "source": [],
      "metadata": {
        "id": "h_viLRFYkdoM"
      },
      "execution_count": null,
      "outputs": []
    },
    {
      "cell_type": "code",
      "source": [],
      "metadata": {
        "id": "lISGOnHFjekZ"
      },
      "execution_count": null,
      "outputs": []
    },
    {
      "cell_type": "code",
      "execution_count": null,
      "metadata": {
        "id": "brtmxAtrfnmE",
        "outputId": "046a3d32-8f37-4cbc-b0d8-2b2084c1f105",
        "colab": {
          "base_uri": "https://localhost:8080/"
        }
      },
      "outputs": [
        {
          "output_type": "stream",
          "name": "stdout",
          "text": [
            "GDAL 3.6.4, released 2023/04/17\n"
          ]
        }
      ],
      "source": [
        "!gdalinfo --version"
      ]
    },
    {
      "cell_type": "markdown",
      "metadata": {
        "id": "hQjH1fkafnmG"
      },
      "source": [
        "### 1 Data Preparation Process"
      ]
    },
    {
      "cell_type": "markdown",
      "metadata": {
        "id": "sk3nyiGffnmG"
      },
      "source": [
        "### 1.1 Introduction to Spectral Bands\n",
        "\n",
        "\n",
        "\n",
        "Explain the importance of different spectral bands in distinguishing various land cover types:\n",
        "\n",
        "B2 (Blue): Useful for water body analysis.\n",
        "B3 (Green): Indicates vegetation health.\n",
        "B4 (Red): Helps in differentiating vegetation.\n",
        "B8 (NIR - Near Infrared): Key for vegetation analysis.\n",
        "\n",
        "### 1.2. True Color Image (RGB)\n",
        "\n",
        "In Sentinel-2 imagery, the RGB bands are essential for visualizing land cover:\n",
        "\n",
        "- **B2 (Blue, 490 nm)**\n",
        "- **B3 (Green, 560 nm)**\n",
        "- **B4 (Red, 665 nm)**\n",
        "\n",
        "These bands create a True Color image similar to what the human eye sees."
      ]
    },
    {
      "cell_type": "code",
      "execution_count": null,
      "metadata": {
        "id": "6mOSBDGUfnmG"
      },
      "outputs": [],
      "source": [
        "#Urban RGB image\n",
        "!gdal_merge.py -separate -o urban_true_color.tif -co PHOTOMETRIC=RGB urban_B4.tif urban_B3.tif urban_B2.tif"
      ]
    },
    {
      "cell_type": "code",
      "execution_count": null,
      "metadata": {
        "id": "BrymvxU0fnmH",
        "outputId": "0879a869-716f-4e7f-eb8b-07b1488b5cb3",
        "colab": {
          "base_uri": "https://localhost:8080/"
        }
      },
      "outputs": [
        {
          "output_type": "stream",
          "name": "stdout",
          "text": [
            "0...10...20...30...40...50...60...70...80...90...100 - done.\n"
          ]
        }
      ],
      "source": [
        "#Agriculture RGB image\n",
        "!gdal_merge.py -separate -o agriculture_true_color.tif -co PHOTOMETRIC=RGB agriculture_B4.tiff agriculture_B3.tiff agriculture_B2.tiff"
      ]
    },
    {
      "cell_type": "code",
      "source": [],
      "metadata": {
        "id": "6bJ7-_lJpP98"
      },
      "execution_count": null,
      "outputs": []
    },
    {
      "cell_type": "code",
      "execution_count": null,
      "metadata": {
        "id": "194wMy_OfnmH"
      },
      "outputs": [],
      "source": [
        "#Water RGB image\n",
        "!gdal_merge.py -separate -o water_body_true_color.tif -co PHOTOMETRIC=RGB water_body_B4.tif water_body_B3.tif water_body_B2.tif"
      ]
    },
    {
      "cell_type": "code",
      "execution_count": null,
      "metadata": {
        "id": "gCDOolK1fnmH"
      },
      "outputs": [],
      "source": [
        "#Desert RGB image\n",
        "!gdal_merge.py -separate -o desert_true_color.tif -co PHOTOMETRIC=RGB desert_B4.tif desert_B3.tif desert_B2.tif"
      ]
    },
    {
      "cell_type": "markdown",
      "metadata": {
        "id": "f10yJ64ufnmH"
      },
      "source": [
        "### 1.3 NDVI (Normalized Difference Vegetation Index)"
      ]
    },
    {
      "cell_type": "markdown",
      "metadata": {
        "id": "LdpuzeTSfnmH"
      },
      "source": [
        "NDVI is calculated as:\n",
        "NDVI = (NIR - Red)/(NIR + Red)\n",
        "\n",
        "\n",
        "- **NIR (Near Infrared):** Reflectance in the near-infrared band.\n",
        "- **Red:** Reflectance in the red band.\n",
        "\n",
        "**Minimum Value:** -1\n",
        "- This occurs when NIR is much less than Red (e.g., highly unhealthy vegetation or water bodies).\n",
        "\n",
        "**Maximum Value:** +1\n",
        "- This occurs when NIR is much greater than Red (e.g., very healthy and dense vegetation).\n",
        "\n",
        "\n"
      ]
    },
    {
      "cell_type": "code",
      "execution_count": null,
      "metadata": {
        "id": "9CcAA3ZPfnmI",
        "outputId": "ad0baa94-9203-487a-9b94-ea942f1649b6",
        "colab": {
          "base_uri": "https://localhost:8080/"
        }
      },
      "outputs": [
        {
          "output_type": "stream",
          "name": "stdout",
          "text": [
            "<string>:1: RuntimeWarning: divide by zero encountered in divide\n",
            "0.. 100 - Done\n"
          ]
        }
      ],
      "source": [
        "# Agriculture\n",
        "!gdal_calc.py -A agriculture_B8.tiff -B agriculture_B4.tiff --outfile=agriculture_ndvi.tif --calc=\"(A-B)/(A+B)\" --NoDataValue=0 --type='Float32'"
      ]
    },
    {
      "cell_type": "code",
      "source": [],
      "metadata": {
        "id": "7opuH90k-CTZ"
      },
      "execution_count": null,
      "outputs": []
    },
    {
      "cell_type": "code",
      "source": [],
      "metadata": {
        "id": "QhkgzLBR99_p"
      },
      "execution_count": null,
      "outputs": []
    },
    {
      "cell_type": "code",
      "source": [],
      "metadata": {
        "id": "qDZiRuAN94Be"
      },
      "execution_count": null,
      "outputs": []
    },
    {
      "cell_type": "code",
      "source": [],
      "metadata": {
        "id": "K57GaT2T9Ux4"
      },
      "execution_count": null,
      "outputs": []
    },
    {
      "cell_type": "code",
      "source": [],
      "metadata": {
        "id": "f8B16yje9STX"
      },
      "execution_count": null,
      "outputs": []
    },
    {
      "cell_type": "code",
      "source": [],
      "metadata": {
        "id": "0vg8DkzS9Pgf"
      },
      "execution_count": null,
      "outputs": []
    },
    {
      "cell_type": "code",
      "execution_count": null,
      "metadata": {
        "id": "zmLXyd0tfnmI"
      },
      "outputs": [],
      "source": [
        "# Urban\n",
        "!gdal_calc.py -A urban_B8.tif -B urban_B4.tif --outfile=urban_ndvi.tif --calc=\"(A-B)/(A+B)\" --NoDataValue=0 --type='Float32'"
      ]
    },
    {
      "cell_type": "code",
      "execution_count": null,
      "metadata": {
        "id": "yaajw7j-fnmI"
      },
      "outputs": [],
      "source": [
        "# Water Body\n",
        "!gdal_calc.py -A water_body_B8.tif -B water_body_B4.tif --outfile=water_body_ndvi.tif --calc=\"(A-B)/(A+B)\" --NoDataValue=0 --type='Float32'"
      ]
    },
    {
      "cell_type": "code",
      "execution_count": null,
      "metadata": {
        "id": "XXGHaKChfnmI"
      },
      "outputs": [],
      "source": [
        "# Desert\n",
        "!gdal_calc.py -A desert_B8.tif -B desert_B4.tif --outfile=desert_ndvi.tif --calc=\"(A-B)/(A+B)\" --NoDataValue=0 --type='Float32'"
      ]
    },
    {
      "cell_type": "markdown",
      "metadata": {
        "id": "tu40uWaefnmI"
      },
      "source": [
        "### 1.4 NDWI (Normalized Difference Water Index)\n",
        "\n",
        "NDWI is calculated as:\n",
        "\n",
        "NDWI = (Green - NIR)/(Green - NIR)\n",
        "\n",
        "\n",
        "- **Green:** Reflectance in the green band.\n",
        "- **NIR (Near Infrared):** Reflectance in the near-infrared band.\n",
        "\n",
        "**Minimum Value:** -1\n",
        "- This occurs when Green is much less than NIR (e.g., very dry areas or built-up areas).\n",
        "\n",
        "**Maximum Value:** +1\n",
        "- This occurs when Green is much greater than NIR (e.g., open water bodies).\n"
      ]
    },
    {
      "cell_type": "code",
      "execution_count": null,
      "metadata": {
        "id": "PimtX_LafnmJ",
        "colab": {
          "base_uri": "https://localhost:8080/"
        },
        "outputId": "189cfc6d-f9e9-4bec-d665-a4dfcdbf7c99"
      },
      "outputs": [
        {
          "output_type": "stream",
          "name": "stdout",
          "text": [
            "Traceback (most recent call last):\n",
            "  File \"/usr/local/lib/python3.10/dist-packages/osgeo_utils/auxiliary/gdal_argparse.py\", line 175, in main\n",
            "    self.doit(**kwargs)\n",
            "  File \"/usr/local/lib/python3.10/dist-packages/osgeo_utils/gdal_calc.py\", line 879, in doit\n",
            "    return Calc(**kwargs)\n",
            "  File \"/usr/local/lib/python3.10/dist-packages/osgeo_utils/gdal_calc.py\", line 238, in Calc\n",
            "    myFile = open_ds(filename)\n",
            "  File \"/usr/local/lib/python3.10/dist-packages/osgeo_utils/auxiliary/util.py\", line 125, in open_ds\n",
            "    return ods.__enter__()\n",
            "  File \"/usr/local/lib/python3.10/dist-packages/osgeo_utils/auxiliary/util.py\", line 246, in __enter__\n",
            "    raise IOError('could not open file \"{}\"'.format(self.filename))\n",
            "OSError: could not open file \"water_body_B3.tif\"\n"
          ]
        }
      ],
      "source": [
        "#Waterbody\n",
        "!gdal_calc.py -A water_body_B3.tif -B water_body_B8.tif --outfile=water_body_ndwi.tif --calc=\"(A-B)/(A+B)\" --NoDataValue=0 --type='Float32'"
      ]
    },
    {
      "cell_type": "code",
      "source": [
        "!gdal_calc.py -A NB03.tiff -B NB08.tiff --outfile=water_body_ndwi.tif --calc=\"(A-B)/(A+B)\" --NoDataValue=0 --type='Float32'"
      ],
      "metadata": {
        "colab": {
          "base_uri": "https://localhost:8080/"
        },
        "id": "H9xZ_kP8wyW6",
        "outputId": "ae7e0941-4124-444e-cd20-497a93cc83c2"
      },
      "execution_count": null,
      "outputs": [
        {
          "output_type": "stream",
          "name": "stdout",
          "text": [
            "<string>:1: RuntimeWarning: divide by zero encountered in divide\n",
            "0.. 0.. 1.. 1.. 2.. 3.. 3.. 4.. 5.. 5.. 6.. 7.. 7.. 8.. 8.. 9.. 10.. 10.. 11.. 12.. 12.. 13.. 14.. 14.. 15.. 15.. 16.. 17.. 17.. 18.. 19.. 19.. 20.. 21.. 21.. 22.. 22.. 23.. 24.. 24.. 25.. 26.. 26.. 27.. 28.. 28.. 29.. 29.. 30.. 31.. 31.. 32.. 33.. 33.. 34.. 35.. 35.. 36.. 36.. 37.. 38.. 38.. 39.. 40.. 40.. 41.. 42.. 42.. 43.. 43.. 44.. 45.. 45.. 46.. 47.. 47.. 48.. 49.. 49.. 50.. 50.. 51.. 52.. 52.. 53.. 54.. 54.. 55.. 56.. 56.. 57.. 57.. 58.. 59.. 59.. 60.. 61.. 61.. 62.. 63.. 63.. 64.. 64.. 65.. 66.. 66.. 67.. 68.. 68.. 69.. 70.. 70.. 71.. 71.. 72.. 73.. 73.. 74.. 75.. 75.. 76.. 77.. 77.. 78.. 78.. 79.. 80.. 80.. 81.. 82.. 82.. 83.. 84.. 84.. 85.. 85.. 86.. 87.. 87.. 88.. 89.. 89.. 90.. 91.. 91.. 92.. 92.. 93.. 94.. 94.. 95.. 96.. 96.. 97.. 98.. 98.. 99.. 100 - Done\n"
          ]
        }
      ]
    },
    {
      "cell_type": "code",
      "execution_count": null,
      "metadata": {
        "id": "uCJ4LiFtfnmJ"
      },
      "outputs": [],
      "source": [
        "#Agriculture\n",
        "!gdal_calc.py -A agriculture_B3.tif -B agriculture_B8.tif --outfile=agriculture_ndwi.tif --calc=\"(A-B)/(A+B)\" --NoDataValue=0 --type='Float32'"
      ]
    },
    {
      "cell_type": "code",
      "execution_count": null,
      "metadata": {
        "id": "BvANcM5LfnmJ"
      },
      "outputs": [],
      "source": [
        "# Urban\n",
        "!gdal_calc.py -A urban_B3.tif -B urban_B8.tif --outfile=urban_ndwi.tif --calc=\"(A-B)/(A+B)\" --NoDataValue=0 --type='Float32'"
      ]
    },
    {
      "cell_type": "code",
      "execution_count": null,
      "metadata": {
        "id": "9AOmVJZjfnmJ"
      },
      "outputs": [],
      "source": [
        "#Desert\n",
        "!gdal_calc.py -A desert_B3.tif -B desert_B8.tif --outfile=desert_ndwi.tif --calc=\"(A-B)/(A+B)\" --NoDataValue=0 --type='Float32'"
      ]
    },
    {
      "cell_type": "markdown",
      "metadata": {
        "id": "9tmDuXnOfnmJ"
      },
      "source": [
        "### 2 Basic Raster Processing"
      ]
    },
    {
      "cell_type": "markdown",
      "metadata": {
        "id": "TzBv6aU7fnmJ"
      },
      "source": [
        "1.Conversion between raster formats\n",
        "\n",
        "This command converts a PNG image (input.tif) to a GeoTIFF (output.png). You can replace input.png with any supported raster format and output.tif with the desired output filename and format.\n"
      ]
    },
    {
      "cell_type": "code",
      "execution_count": null,
      "metadata": {
        "id": "vNVdA8TLfnmJ",
        "outputId": "6b48aa5f-4b8a-4481-f4ac-5ffa605f01d6"
      },
      "outputs": [
        {
          "name": "stdout",
          "output_type": "stream",
          "text": [
            "Input file size is 113, 88\n",
            "0...10...20...30...40...50...60...70...80...90...100 - done.\n"
          ]
        }
      ],
      "source": [
        "!gdal_translate -of GTiff input.tif output.png"
      ]
    },
    {
      "cell_type": "markdown",
      "metadata": {
        "id": "qY_cv3lLfnmK"
      },
      "source": [
        "2. Reprojection of raster data:\n",
        "This command reprojects a raster file (input.tif) to the WGS84 coordinate system (EPSG:4326) and saves the result as output_reprojected.tif. You can change the target coordinate system (-t_srs) as needed."
      ]
    },
    {
      "cell_type": "code",
      "execution_count": null,
      "metadata": {
        "id": "-2O8xVzffnmK",
        "outputId": "08de7b0e-835a-49e4-93e3-3de499560e5d"
      },
      "outputs": [
        {
          "name": "stdout",
          "output_type": "stream",
          "text": [
            "Creating output file that is 117P x 83L.\n",
            "Processing /Users/m.kalathingal/Desktop/output.png [1/1] : 0...10...20...30...40...50...60...70...80...90...100 - done.\n"
          ]
        }
      ],
      "source": [
        "!gdalwarp -t_srs EPSG:4326 input.tif output_reprojected.tif  #utm EPSG:32636"
      ]
    },
    {
      "cell_type": "markdown",
      "metadata": {
        "id": "g_ng2A0ufnmK"
      },
      "source": [
        "3. Resampling and resizing:\n",
        "This command resamples a raster image (input.tif) to a target size of 500x500 pixels (-ts 500 500) and saves the result as output_resampled.tif. You can adjust the target size as needed."
      ]
    },
    {
      "cell_type": "code",
      "execution_count": null,
      "metadata": {
        "id": "2xfIUoBxfnmK",
        "outputId": "406eaf99-7980-464d-d6a0-1371b01fc77e",
        "colab": {
          "base_uri": "https://localhost:8080/"
        }
      },
      "outputs": [
        {
          "output_type": "stream",
          "name": "stdout",
          "text": [
            "Creating output file that is 500P x 500L.\n",
            "Processing agriculture_B2.tiff [1/1] : 0...10...20...30...40...50...60...70...80...90...100 - done.\n"
          ]
        }
      ],
      "source": [
        "!gdalwarp -ts 500 500 agriculture_B2.tiff output_resampled.tif #resize\n"
      ]
    },
    {
      "cell_type": "code",
      "source": [],
      "metadata": {
        "id": "QxqSZBZFDO5e"
      },
      "execution_count": null,
      "outputs": []
    },
    {
      "cell_type": "markdown",
      "metadata": {
        "id": "NJMbQ3VUfnmK"
      },
      "source": [
        "4. Clipping raster data:\n",
        "This command clips a raster dataset (input.tif) using a vector polygon layer (clipper.shp) and saves the clipped output as output_clipped.tif. The -crop_to_cutline flag ensures that the output raster aligns with the boundary of the clipping polygon.\n"
      ]
    },
    {
      "cell_type": "code",
      "execution_count": null,
      "metadata": {
        "id": "IxpAIpnwfnmK",
        "outputId": "6173afcb-7fbf-4640-92b9-0a973a02fb62",
        "colab": {
          "base_uri": "https://localhost:8080/"
        }
      },
      "outputs": [
        {
          "output_type": "stream",
          "name": "stdout",
          "text": [
            "ERROR 1: Cannot open clipper.shp.\n"
          ]
        }
      ],
      "source": [
        "!gdalwarp -cutline clipper.shp -crop_to_cutline agriculture_B2.tiff output_clipped.tif #I have to have a shp file to shape the file choosed as it size\n"
      ]
    },
    {
      "cell_type": "code",
      "source": [],
      "metadata": {
        "id": "S4nzmrDaEwh1"
      },
      "execution_count": null,
      "outputs": []
    },
    {
      "cell_type": "markdown",
      "metadata": {
        "id": "8QL8K9VhfnmK"
      },
      "source": [
        "5. Calculating raster statistics:\n",
        "\n",
        "This command displays statistics (minimum, maximum, mean, standard deviation, etc.) for pixel values in a raster dataset (input.tif). It provides valuable information about the distribution and range of values within the raster."
      ]
    },
    {
      "cell_type": "code",
      "execution_count": null,
      "metadata": {
        "id": "yTJYbs5ofnmL"
      },
      "outputs": [],
      "source": [
        "!gdalinfo -stats input.tif\n"
      ]
    },
    {
      "cell_type": "markdown",
      "metadata": {
        "id": "60x_VFNafnmL"
      },
      "source": [
        "6. Band calculations:\n",
        "This command will create a new raster file (classified_ndvi.tif) where the NDVI values have been classified into the four categories as specified."
      ]
    },
    {
      "cell_type": "code",
      "execution_count": null,
      "metadata": {
        "id": "Ly9NAzzwfnmL"
      },
      "outputs": [],
      "source": [
        "!gdal_calc.py -A input_ndvi.tif --outfile=classified_ndvi.tif --calc=\"1*(A>=0)*(A<=0.25) + 2*(A>0.25)*(A<=0.5) + 3*(A>0.5)*(A<=0.75) + 4*(A>0.75)\" --NoDataValue=0 --overwrite\n"
      ]
    },
    {
      "cell_type": "markdown",
      "metadata": {
        "id": "ZPPQpdUNfnmL"
      },
      "source": [
        "7. Image processing:\n",
        "This command linearly scales pixel values in input.tif from the range 0-1000 to the range 0-255 and saves the result as output_processed.tif."
      ]
    },
    {
      "cell_type": "code",
      "execution_count": null,
      "metadata": {
        "id": "wTXiY25rfnmL"
      },
      "outputs": [],
      "source": [
        "!gdal_translate -scale 0 1000 0 255 input.tif output_processed.tif"
      ]
    },
    {
      "cell_type": "markdown",
      "metadata": {
        "id": "53XJJZShfnmL"
      },
      "source": [
        "8. Merging raster datasets:\n",
        "This command merges multiple raster datasets (input1.tif, input2.tif, input3.tif) into a single file named merged.tif."
      ]
    },
    {
      "cell_type": "code",
      "execution_count": null,
      "metadata": {
        "id": "91X_nQynfnmP"
      },
      "outputs": [],
      "source": [
        "\n",
        "!gdal_merge.py -o merged.tif input1.tif input2.tif input3.tif"
      ]
    },
    {
      "cell_type": "markdown",
      "metadata": {
        "id": "5HKiKb26fnmQ"
      },
      "source": [
        "9. Setting NoData values:\n",
        "This command sets the NoData value of input.tif to 0 and saves the result as output_nodata.tif."
      ]
    },
    {
      "cell_type": "code",
      "execution_count": null,
      "metadata": {
        "id": "x8xjRK8-fnmQ"
      },
      "outputs": [],
      "source": [
        "!gdal_translate -a_nodata 0 input.tif output_nodata.tif"
      ]
    },
    {
      "cell_type": "markdown",
      "metadata": {
        "id": "phg0q9acfnmQ"
      },
      "source": [
        "10. Creating color relief:\n",
        "This command creates a color-relief representation of elevation data (elevation.tif) using a predefined color ramp (color_ramp.txt) and saves the result as color_relief.tif."
      ]
    },
    {
      "cell_type": "code",
      "execution_count": null,
      "metadata": {
        "id": "sVmqeeIifnmQ"
      },
      "outputs": [],
      "source": [
        "%%bash\n",
        "cat << EOF > colormap.txt\n",
        "1000,101,146,82\n",
        "1500,190,202,130\n",
        "2000,241,225,145\n",
        "2500,244,200,126\n",
        "3000,197,147,117\n",
        "4000,204,169,170\n",
        "5000,251,238,253\n",
        "6000,255,255,255\n",
        "EOF"
      ]
    },
    {
      "cell_type": "code",
      "execution_count": null,
      "metadata": {
        "id": "GGGvlDDsfnmQ"
      },
      "outputs": [],
      "source": [
        "!gdaldem color-relief elevation.tif color_ramp.txt color_relief.tif"
      ]
    },
    {
      "cell_type": "markdown",
      "metadata": {
        "id": "QBERIteWfnmQ"
      },
      "source": [
        "11. Processing aerial imagery:\n",
        "This command reprojects aerial imagery (input.tif) to the WGS84 coordinate system, applies cubic resampling (-r cubic), and sets nodata values to -9999 (-dstnodata -9999), saving the result as output_processed.tif."
      ]
    },
    {
      "cell_type": "code",
      "execution_count": null,
      "metadata": {
        "id": "H6jSyiByfnmQ"
      },
      "outputs": [],
      "source": [
        "!gdalwarp -t_srs EPSG:4326 -r cubic -dstnodata -9999 input.tif output_processed.tif\n"
      ]
    },
    {
      "cell_type": "markdown",
      "metadata": {
        "id": "KoEELX0wfnmR"
      },
      "source": [
        "12. Merging individual bands into RGB composite:\n",
        "\n",
        "This command merges three individual bands (band1.tif, band2.tif, band3.tif) into an RGB composite image named rgb_composite.tif."
      ]
    },
    {
      "cell_type": "code",
      "execution_count": null,
      "metadata": {
        "id": "imx78k9CfnmR"
      },
      "outputs": [],
      "source": [
        "!gdal_merge.py -separate -o rgb_composite.tif band1.tif band2.tif band3.tif\n"
      ]
    },
    {
      "cell_type": "markdown",
      "metadata": {
        "id": "dmezLBiffnmR"
      },
      "source": [
        "13. Apply histogram stretch and color correction:\n",
        "This command applies histogram stretch to each band of input.tif, mapping the original pixel values to the range 0-255, and saves the result as output_stretched.tif.\n"
      ]
    },
    {
      "cell_type": "code",
      "execution_count": null,
      "metadata": {
        "id": "h-aYr9HGfnmR"
      },
      "outputs": [],
      "source": [
        "!gdal_translate -scale_1 0 255 -scale_2 0 255 -scale_3 0 255 input.tif output_stretched.tif"
      ]
    },
    {
      "cell_type": "markdown",
      "metadata": {
        "id": "QUrfWvr7fnmR"
      },
      "source": [
        "14. Raster algebra (Similar to band calculation but here, it is multiple inputs ):\n",
        "This command performs raster algebra on two input raster datasets (input1.tif, input2.tif), adding their corresponding pixel values together, and saves the result as output_raster_algebra.tif.\n"
      ]
    },
    {
      "cell_type": "code",
      "execution_count": null,
      "metadata": {
        "id": "8lpMDVlAfnmR"
      },
      "outputs": [],
      "source": [
        "!gdal_calc.py -A input1.tif -B input2.tif --outfile=output_raster_algebra.tif --calc=\"A+B\"\n"
      ]
    },
    {
      "cell_type": "markdown",
      "metadata": {
        "id": "Jv2uHpt2fnmR"
      },
      "source": [
        "15. Pan sharpening:\n",
        "This command performs pan sharpening on a multispectral image (multispectral.tif) using a panchromatic image (pan.tif) and saves the result as pan_sharpened.tif using bilinear resampling."
      ]
    },
    {
      "cell_type": "code",
      "execution_count": null,
      "metadata": {
        "id": "Ug4IU8t_fnmS"
      },
      "outputs": [],
      "source": [
        "!gdal_pansharpen.py -r bilinear -co COMPRESS=JPEG pan.tif multispectral.tif pan_sharpened.tif\n"
      ]
    },
    {
      "cell_type": "markdown",
      "metadata": {
        "id": "xQ0WklAUfnmS"
      },
      "source": [
        "16. Georeferencing:\n",
        "This command georeferences input.tif to the WGS84 coordinate system (EPSG:4326) and sets the upper-left and lower-right coordinates (-a_ullr ulx uly lrx lry). The result is saved as output_georeferenced.tif."
      ]
    },
    {
      "cell_type": "code",
      "execution_count": null,
      "metadata": {
        "id": "Ws7JwDeWfnmS"
      },
      "outputs": [],
      "source": [
        "!gdal_translate -a_srs EPSG:4326 -a_ullr ulx uly lrx lry input.tif output_georeferenced.tif\n"
      ]
    },
    {
      "cell_type": "markdown",
      "metadata": {
        "id": "UWE70l29fnmS"
      },
      "source": [
        "17. Georeferencing with GCPs:   \n",
        "Georeferencing using Ground Control Points (GCPs) in GDAL involves specifying the correspondence between points in the raster image and\n",
        "their corresponding geographic coordinates in the real world. This process allows GDAL to transform the image into a georeferenced format.\n"
      ]
    },
    {
      "cell_type": "code",
      "execution_count": null,
      "metadata": {
        "id": "eaZsuz1ofnmS"
      },
      "outputs": [],
      "source": [
        "!gdal_translate -gcp pixel_column pixel_row easting northing -gcp pixel_column pixel_row easting northing ... input.tif output_georeferenced.tif\n",
        "!gdalwarp -t_srs EPSG:4326 output_georeferenced.tif final_output.tif\n"
      ]
    },
    {
      "cell_type": "markdown",
      "metadata": {
        "id": "rQF9f9smfnmS"
      },
      "source": [
        "18. Image mosaicking with feathering:\n",
        "\n",
        "This command creates a mosaic of multiple input images (input1.tif, input2.tif, input3.tif) using cubic resampling and saves the result as output_mosaic.tif"
      ]
    },
    {
      "cell_type": "code",
      "execution_count": null,
      "metadata": {
        "id": "ZrCvrrQQfnmT"
      },
      "outputs": [],
      "source": [
        "!gdalwarp -r cubic input1.tif input2.tif input3.tif output_mosaic.tif\n"
      ]
    },
    {
      "cell_type": "markdown",
      "metadata": {
        "id": "madirOAAfnmT"
      },
      "source": [
        "19. Image subsetting:\n",
        "This command extracts a subset of input.tif starting from the pixel coordinates (100, 100) with a size of 500x500 pixels and saves it as output_subset.tif.\n",
        "\n"
      ]
    },
    {
      "cell_type": "code",
      "execution_count": null,
      "metadata": {
        "id": "7dIm5hwifnmT"
      },
      "outputs": [],
      "source": [
        "!gdal_translate -srcwin 100 100 500 500 input.tif output_subset.tif"
      ]
    },
    {
      "cell_type": "markdown",
      "metadata": {
        "id": "qmUKmJfkfnmT"
      },
      "source": []
    },
    {
      "cell_type": "markdown",
      "metadata": {
        "id": "hkXLVLz1fnmT"
      },
      "source": [
        "20. Image retiling:\n",
        "This command retiles input.tif into smaller tiles of size 512x512 pixels and saves them in the tiles directory.\n"
      ]
    },
    {
      "cell_type": "code",
      "execution_count": null,
      "metadata": {
        "id": "upkDGlUyfnmT"
      },
      "outputs": [],
      "source": [
        "!gdal_retile.py -ps 512 512 -targetDir tiles input.tif\n"
      ]
    },
    {
      "cell_type": "markdown",
      "metadata": {
        "id": "QH56jRVMfnmT"
      },
      "source": [
        "21. Image band reordering:\n",
        "This command reorders the bands of input.tif so that band 3 becomes the first band, band 2 becomes the second band, and band 1 becomes the third band in the output file output_reordered.tif.\n"
      ]
    },
    {
      "cell_type": "markdown",
      "metadata": {
        "id": "zmBGjS3GfnmT"
      },
      "source": [
        "!gdal_translate -b 3 -b 2 -b 1 input.tif output_reordered.tif"
      ]
    },
    {
      "cell_type": "markdown",
      "metadata": {
        "id": "4jwhTEinfnmU"
      },
      "source": [
        "22.  Image smoothing with Gaussian filter:\n",
        "This command applies a Gaussian smoothing filter to input.tif, removing noise and saving the result as output_smoothed.tif.\n"
      ]
    },
    {
      "cell_type": "code",
      "execution_count": null,
      "metadata": {
        "id": "1bdE1djkfnmU"
      },
      "outputs": [],
      "source": [
        "!gdal_sieve.py -st 50 -4 input.tif output_smoothed.tif"
      ]
    },
    {
      "cell_type": "markdown",
      "metadata": {
        "id": "PlUPHILAfnmU"
      },
      "source": [
        "23. Image classification:\n",
        "This command classifies input.tif into vector polygons using the GDAL polygonize utility and saves the result as a shapefile (output.shp)."
      ]
    },
    {
      "cell_type": "code",
      "execution_count": null,
      "metadata": {
        "id": "xK4ny-2nfnmU"
      },
      "outputs": [],
      "source": [
        "!gdal_polygonize.py input.tif -f \"ESRI Shapefile\" output.shp\n"
      ]
    },
    {
      "cell_type": "markdown",
      "metadata": {
        "id": "9ANhTz1kfnmU"
      },
      "source": [
        "24. Image enhancement with gamma correction:\n",
        "This command applies gamma correction with a gamma value of 0.8 to input.tif and saves the result as output_gamma.tif."
      ]
    },
    {
      "cell_type": "code",
      "execution_count": null,
      "metadata": {
        "id": "8n-IMEavfnmU"
      },
      "outputs": [],
      "source": [
        "!gdal_translate -scale 0 255 0 65535 -exponent 0.8 input.tif output_gamma.tif\n"
      ]
    },
    {
      "cell_type": "markdown",
      "metadata": {
        "id": "7yLZzIFqfnmU"
      },
      "source": [
        "25. Image thresholding:\n",
        "This command performs thresholding on input.tif, setting pixel values greater than 100 to 1 and others to 0, and saves the result as output_thresholded.tif."
      ]
    },
    {
      "cell_type": "code",
      "execution_count": null,
      "metadata": {
        "id": "yR6eg1YQfnmV",
        "colab": {
          "base_uri": "https://localhost:8080/"
        },
        "outputId": "2957e7a0-8ca2-4269-e714-02d59dcdf6e1"
      },
      "outputs": [
        {
          "output_type": "stream",
          "name": "stdout",
          "text": [
            "0.. 1.. 2.. 3.. 4.. 5.. 6.. 7.. 8.. 9.. 10.. 11.. 12.. 13.. 15.. 16.. 17.. 18.. 19.. 20.. 21.. 22.. 23.. 24.. 25.. 26.. 27.. 29.. 30.. 31.. 32.. 33.. 34.. 35.. 36.. 37.. 38.. 39.. 40.. 41.. 43.. 44.. 45.. 46.. 47.. 48.. 49.. 50.. 51.. 52.. 53.. 54.. 55.. 56.. 58.. 59.. 60.. 61.. 62.. 63.. 64.. 65.. 66.. 67.. 68.. 69.. 70.. 72.. 73.. 74.. 75.. 76.. 77.. 78.. 79.. 80.. 81.. 82.. 83.. 84.. 86.. 87.. 88.. 89.. 90.. 91.. 92.. 93.. 94.. 95.. 96.. 97.. 98.. 100 - Done\n"
          ]
        }
      ],
      "source": [
        "!gdal_calc.py -A Input.tiff --outfile=output_thresholded.tif --calc=\"A>100\" --NoDataValue=0\n"
      ]
    }
  ],
  "metadata": {
    "kernelspec": {
      "display_name": "Python 3",
      "language": "python",
      "name": "python3"
    },
    "language_info": {
      "codemirror_mode": {
        "name": "ipython",
        "version": 3
      },
      "file_extension": ".py",
      "mimetype": "text/x-python",
      "name": "python",
      "nbconvert_exporter": "python",
      "pygments_lexer": "ipython3",
      "version": "3.9.6"
    },
    "colab": {
      "provenance": []
    }
  },
  "nbformat": 4,
  "nbformat_minor": 0
}